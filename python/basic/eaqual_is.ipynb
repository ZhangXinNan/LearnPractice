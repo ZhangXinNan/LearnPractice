{
 "cells": [
  {
   "cell_type": "code",
   "execution_count": 1,
   "metadata": {},
   "outputs": [],
   "source": [
    "import torch as t\n",
    "a = t.Tensor(2,3)"
   ]
  },
  {
   "cell_type": "code",
   "execution_count": 2,
   "metadata": {},
   "outputs": [
    {
     "name": "stdout",
     "output_type": "stream",
     "text": [
      "True True\n",
      "True False\n"
     ]
    }
   ],
   "source": [
    "a = b = [1,2,3]\n",
    "c = [1,2,3]\n",
    "\n",
    "print(a == b, a == c)\n",
    "print(a is b, a is c)"
   ]
  },
  {
   "cell_type": "code",
   "execution_count": 5,
   "metadata": {},
   "outputs": [
    {
     "name": "stdout",
     "output_type": "stream",
     "text": [
      "True\n",
      "False\n",
      "False\n",
      "False\n"
     ]
    }
   ],
   "source": [
    "class Foo:\n",
    "    def __eq__(self,other):\n",
    "        return True\n",
    "foo=Foo()\n",
    "\n",
    "print(foo==None)\n",
    "print(foo is None)\n",
    "\n",
    "class Foo2:\n",
    "    def __init__(self):\n",
    "        self.obj = None\n",
    "foo=Foo2()\n",
    "\n",
    "print(foo==None)\n",
    "print(foo is None)"
   ]
  },
  {
   "cell_type": "code",
   "execution_count": null,
   "metadata": {},
   "outputs": [],
   "source": []
  }
 ],
 "metadata": {
  "kernelspec": {
   "display_name": "Python 3",
   "language": "python",
   "name": "python3"
  },
  "language_info": {
   "codemirror_mode": {
    "name": "ipython",
    "version": 3
   },
   "file_extension": ".py",
   "mimetype": "text/x-python",
   "name": "python",
   "nbconvert_exporter": "python",
   "pygments_lexer": "ipython3",
   "version": "3.6.6"
  }
 },
 "nbformat": 4,
 "nbformat_minor": 2
}
