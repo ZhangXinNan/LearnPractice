{
 "cells": [
  {
   "cell_type": "code",
   "execution_count": 1,
   "metadata": {
    "collapsed": false
   },
   "outputs": [
    {
     "name": "stdout",
     "output_type": "stream",
     "text": [
      "[0.0, 0.0]\n",
      "[5.0, 4.5]\n",
      "[10.0, 4.5549998]\n",
      "[10.0, 4.6094499]\n"
     ]
    }
   ],
   "source": [
    "import tensorflow as tf\n",
    "\n",
    "# 定义一个32位浮点数的变量，初始值位0.0\n",
    "v1 = tf.Variable(dtype=tf.float32, initial_value=0.)\n",
    "\n",
    "# 衰减率decay，初始值位0.99\n",
    "decay = 0.99\n",
    "# 定义num_updates，同样，初始值位0\n",
    "num_updates = tf.Variable(0, trainable=False)\n",
    "# 定义滑动平均模型的类，将衰减率decay和num_updates传入。\n",
    "ema = tf.train.ExponentialMovingAverage(decay=decay, num_updates=num_updates)\n",
    "\n",
    "# 定义更新变量列表\n",
    "update_var_list = [v1]\n",
    "# 使用滑动平均模型\n",
    "ema_apply = ema.apply(update_var_list)\n",
    "\n",
    "# Tensorflow会话\n",
    "with tf.Session() as sess:\n",
    "    # 初始化全局变量\n",
    "    sess.run(tf.global_variables_initializer())\n",
    "\n",
    "    # 输出初始值\n",
    "    print(sess.run([v1, ema.average(v1)]))      \n",
    "    # [0.0, 0.0]（此时 num_updates = 0 ⇒ decay = .1, ），\n",
    "    # shadow_variable = variable = 0.\n",
    "\n",
    "    # 将v1赋值为5\n",
    "    sess.run(tf.assign(v1, 5))\n",
    "    # 调用函数，使用滑动平均模型\n",
    "    sess.run(ema_apply)\n",
    "    # 再次输出\n",
    "    print(sess.run([v1, ema.average(v1)]))     \n",
    "    # 此时，num_updates = 0 ⇒ decay =0.1,  v1 = 5; \n",
    "    # shadow_variable = 0.1 * 0 + 0.9 * 5 = 4.5 ⇒ variable\n",
    "\n",
    "    # 将num_updates赋值为10000\n",
    "    sess.run(tf.assign(num_updates, 10000))\n",
    "    # 将v1赋值为10\n",
    "    sess.run(tf.assign(v1, 10))\n",
    "    # 调用函数，使用滑动平均模型\n",
    "    sess.run(ema_apply)\n",
    "    # 输出\n",
    "    print(sess.run([v1, ema.average(v1)]))      \n",
    "    # decay = 0.99,shadow_variable = 0.99 * 4.5 + .01*10 ⇒ 4.555\n",
    "\n",
    "    # 再次使用滑动平均模型\n",
    "    sess.run(ema_apply)\n",
    "\n",
    "    # 输出\n",
    "    print(sess.run([v1, ema.average(v1)]))      \n",
    "    # decay = 0.99，shadow_variable = .99*4.555 + .01*10 = 4.609"
   ]
  },
  {
   "cell_type": "code",
   "execution_count": null,
   "metadata": {
    "collapsed": true
   },
   "outputs": [],
   "source": []
  }
 ],
 "metadata": {
  "kernelspec": {
   "display_name": "Python 2",
   "language": "python",
   "name": "python2"
  },
  "language_info": {
   "codemirror_mode": {
    "name": "ipython",
    "version": 2
   },
   "file_extension": ".py",
   "mimetype": "text/x-python",
   "name": "python",
   "nbconvert_exporter": "python",
   "pygments_lexer": "ipython2",
   "version": "2.7.14"
  }
 },
 "nbformat": 4,
 "nbformat_minor": 1
}
