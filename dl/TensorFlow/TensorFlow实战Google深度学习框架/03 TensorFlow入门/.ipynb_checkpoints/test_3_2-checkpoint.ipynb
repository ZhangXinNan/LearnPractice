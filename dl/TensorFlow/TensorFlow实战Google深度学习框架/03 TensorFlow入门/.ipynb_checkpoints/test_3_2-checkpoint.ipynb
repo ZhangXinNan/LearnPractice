{
 "cells": [
  {
   "cell_type": "code",
   "execution_count": 1,
   "metadata": {
    "collapsed": false
   },
   "outputs": [
    {
     "name": "stdout",
     "output_type": "stream",
     "text": [
      "Tensor(\"add:0\", shape=(2,), dtype=int32)\n"
     ]
    }
   ],
   "source": [
    "import tensorflow as tf\n",
    "a = tf.constant([1, 2], name='a')\n",
    "b = tf.constant([2, 3], name='b')\n",
    "result = tf.add(a, b, name='add')\n",
    "print result\n",
    "\n",
    "# 输出结果：\n",
    "# Tensor(\"add:0\", shape=(2,), dtype=int32)\n",
    "# add 代表节点的名称，0代表当前张量来自节点的第0个输出。\n"
   ]
  },
  {
   "cell_type": "code",
   "execution_count": 2,
   "metadata": {
    "collapsed": false
   },
   "outputs": [
    {
     "name": "stdout",
     "output_type": "stream",
     "text": [
      "Tensor(\"add_1:0\", shape=(2,), dtype=float32)\n"
     ]
    }
   ],
   "source": [
    "# a b 类型需要一致，否则会报错。一般建议通过指定dtype来指出变量的类别\n",
    "a = tf.constant([1, 2], name='a', dtype=tf.float32)\n",
    "b = tf.constant([2, 3], name='b', dtype=tf.float32)\n",
    "result = a + b\n",
    "print result\n",
    "\n",
    "# 输出结果：\n",
    "# Tensor(\"add:0\", shape=(2,), dtype=int32)\n",
    "# add 代表节点的名称，0代表当前张量来自节点的第0个输出。\n"
   ]
  }
 ],
 "metadata": {
  "kernelspec": {
   "display_name": "Python 2",
   "language": "python",
   "name": "python2"
  },
  "language_info": {
   "codemirror_mode": {
    "name": "ipython",
    "version": 2
   },
   "file_extension": ".py",
   "mimetype": "text/x-python",
   "name": "python",
   "nbconvert_exporter": "python",
   "pygments_lexer": "ipython2",
   "version": "2.7.14"
  }
 },
 "nbformat": 4,
 "nbformat_minor": 1
}
