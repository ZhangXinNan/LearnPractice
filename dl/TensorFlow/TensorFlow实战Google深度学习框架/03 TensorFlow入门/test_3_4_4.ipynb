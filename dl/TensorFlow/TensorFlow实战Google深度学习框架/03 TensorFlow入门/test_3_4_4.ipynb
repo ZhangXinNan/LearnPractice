{
 "cells": [
  {
   "cell_type": "code",
   "execution_count": 3,
   "metadata": {
    "collapsed": false
   },
   "outputs": [
    {
     "name": "stdout",
     "output_type": "stream",
     "text": [
      "[[ 3.95757794]]\n",
      "[[ 5.03431749]\n",
      " [ 2.16777873]\n",
      " [ 2.86653852]]\n"
     ]
    }
   ],
   "source": [
    "import tensorflow as tf\n",
    "\n",
    "w1 = tf.Variable(tf.random_normal([2, 3], stddev=1, seed=1))\n",
    "w2 = tf.Variable(tf.random_normal([3, 1], stddev=1, seed=1))\n",
    "\n",
    "# x = tf.constant([[0.7, 0.9]])\n",
    "# x = tf.placeholder(tf.float32, shape=(1,2), name=\"input\")\n",
    "x = tf.placeholder(tf.float32, shape=(None,2), name=\"input\")\n",
    "a = tf.matmul(x, w1)\n",
    "y = tf.matmul(a, w2)\n",
    "\n",
    "# sess = tf.Session()\n",
    "# sess.run(w1.initializer)\n",
    "# sess.run(w2.initializer)\n",
    "\n",
    "# print(sess.run(y))\n",
    "# sess.close()\n",
    "# init_op = tf.initialize_all_variables()\n",
    "# initialize_all_variables (from tensorflow.python.ops.variables) is deprecated and will be removed after 2017-03-02.\n",
    "init_op = tf.global_variables_initializer()\n",
    "with tf.Session() as sess:\n",
    "    sess.run(init_op)\n",
    "    print(sess.run(y, feed_dict={x:[[0.7, 0.9]]}))\n",
    "    print(sess.run(y, feed_dict={x:[[1,1], [0, 1], [1,0]]}))"
   ]
  },
  {
   "cell_type": "code",
   "execution_count": null,
   "metadata": {
    "collapsed": true
   },
   "outputs": [],
   "source": []
  }
 ],
 "metadata": {
  "kernelspec": {
   "display_name": "Python 2",
   "language": "python",
   "name": "python2"
  },
  "language_info": {
   "codemirror_mode": {
    "name": "ipython",
    "version": 2
   },
   "file_extension": ".py",
   "mimetype": "text/x-python",
   "name": "python",
   "nbconvert_exporter": "python",
   "pygments_lexer": "ipython2",
   "version": "2.7.14"
  }
 },
 "nbformat": 4,
 "nbformat_minor": 1
}
