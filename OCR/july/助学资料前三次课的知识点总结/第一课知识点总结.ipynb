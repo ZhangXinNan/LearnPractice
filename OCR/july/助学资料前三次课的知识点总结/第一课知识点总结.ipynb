{
 "cells": [
  {
   "cell_type": "markdown",
   "metadata": {},
   "source": [
    "## 第一课"
   ]
  },
  {
   "cell_type": "markdown",
   "metadata": {},
   "source": [
    "* 什么是OCR\n",
    "    * OCR技术的使用场景\n",
    "    * 目前OCR的技术难点\n",
    "\n",
    "* OCR基本流程\n",
    "    * 基本流程\n",
    "        * 预处理\n",
    "            * 降噪\n",
    "                * 滤波、光处理\n",
    "            * 增强\n",
    "                * 灰度拉伸\n",
    "            * 二值化\n",
    "                * 由灰度图像变成二值图像\n",
    "                * OTSU\n",
    "                * MSER\n",
    "            * 倾斜校正\n",
    "                * HOUGH变换、投影法\n",
    "        * 版面分析\n",
    "        * 文本行定位\n",
    "        * 字符分割识别\n",
    "        * 后处理\n",
    "    * 实例一原理讲解 : 通用文本识别\n",
    "        * 连接部件之间的距离测量\n",
    "            * MRL\n",
    "            * ECC\n",
    "        * 基于最小生成树聚类的文本行提取\n",
    "        * 字符分割\n",
    "        * 遗留问题\n",
    "            * 混排\n",
    "            * 字符分割\n",
    "            * 公式\n",
    "            * 二值化\n",
    "    * 实例二原理讲解 : 车牌检测与识别\n",
    "        * 竖直纹理卷积法\n",
    "            * 车牌区域内的边缘灰度直方图统计特征,车牌区域内的边缘灰度直方图具有两个明显且分离的分布中心\n",
    "            * 车牌的几何特征,即车牌的高、宽和高宽比在一定范围内\n",
    "            * 车牌区域水平或垂直投影特征,车牌区域水平或垂直投影呈现连续的谷、峰的分布\n",
    "            * 车牌与周边区域文理密度分布对比\n",
    "        * 色彩空间模糊集\n",
    "        * 区域分割\n",
    "        * Deep Learning\n",
    "    \n",
    "* 第一个OCR小程序\n",
    "    * 二值化"
   ]
  }
 ],
 "metadata": {
  "kernelspec": {
   "display_name": "Python 3",
   "language": "python",
   "name": "python3"
  },
  "language_info": {
   "codemirror_mode": {
    "name": "ipython",
    "version": 3
   },
   "file_extension": ".py",
   "mimetype": "text/x-python",
   "name": "python",
   "nbconvert_exporter": "python",
   "pygments_lexer": "ipython3",
   "version": "3.6.5"
  },
  "toc": {
   "base_numbering": 1,
   "nav_menu": {},
   "number_sections": true,
   "sideBar": true,
   "skip_h1_title": false,
   "title_cell": "Table of Contents",
   "title_sidebar": "Contents",
   "toc_cell": false,
   "toc_position": {},
   "toc_section_display": true,
   "toc_window_display": false
  },
  "varInspector": {
   "cols": {
    "lenName": 16,
    "lenType": 16,
    "lenVar": 40
   },
   "kernels_config": {
    "python": {
     "delete_cmd_postfix": "",
     "delete_cmd_prefix": "del ",
     "library": "var_list.py",
     "varRefreshCmd": "print(var_dic_list())"
    },
    "r": {
     "delete_cmd_postfix": ") ",
     "delete_cmd_prefix": "rm(",
     "library": "var_list.r",
     "varRefreshCmd": "cat(var_dic_list()) "
    }
   },
   "types_to_exclude": [
    "module",
    "function",
    "builtin_function_or_method",
    "instance",
    "_Feature"
   ],
   "window_display": false
  }
 },
 "nbformat": 4,
 "nbformat_minor": 2
}
