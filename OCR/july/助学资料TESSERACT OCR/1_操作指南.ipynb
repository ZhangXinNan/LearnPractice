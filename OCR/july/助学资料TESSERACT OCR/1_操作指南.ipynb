{
 "cells": [
  {
   "cell_type": "markdown",
   "metadata": {},
   "source": [
    "## 源码\n",
    "\n",
    "* [github](https://github.com/tesseract-ocr/tesseract)\n",
    "* [编译](https://github.com/tesseract-ocr/tesseract/wiki/Compiling)\n",
    "* 训练\n",
    "    * [训练1](https://github.com/tesseract-ocr/tesseract/wiki/TrainingTesseract)\n",
    "    * [训练2](https://github.com/tesseract-ocr/tesseract/wiki/TrainingTesseract-4.00)\n",
    "* [命令](https://github.com/tesseract-ocr/tesseract/wiki/Command-Line-Usage)\n",
    "\n"
   ]
  },
  {
   "cell_type": "markdown",
   "metadata": {},
   "source": [
    "## API调用\n",
    "\n",
    "```C++\n",
    "#include <tesseract/baseapi.h>\n",
    "#include <leptonica/allheaders.h>\n",
    "\n",
    "int main()\n",
    "{\n",
    "    char *outText;\n",
    "\n",
    "    tesseract::TessBaseAPI *api = new tesseract::TessBaseAPI();\n",
    "    // Initialize tesseract-ocr with English, without specifying tessdata path\n",
    "    if (api->Init(NULL, \"eng\")) {\n",
    "        fprintf(stderr, \"Could not initialize tesseract.\\n\");\n",
    "        exit(1);\n",
    "    }\n",
    "\n",
    "    // Open input image with leptonica library\n",
    "    Pix *image = pixRead(\"/usr/src/tesseract/testing/phototest.tif\");\n",
    "    api->SetImage(image);\n",
    "    // Get OCR result\n",
    "    outText = api->GetUTF8Text();\n",
    "    printf(\"OCR output:\\n%s\", outText);\n",
    "\n",
    "    // Destroy used object and release memory\n",
    "    api->End();\n",
    "    delete [] outText;\n",
    "    pixDestroy(&image);\n",
    "\n",
    "    return 0;\n",
    "}\n",
    "```"
   ]
  },
  {
   "cell_type": "markdown",
   "metadata": {},
   "source": [
    "## python支持的TESSERACT\n",
    "\n",
    "* [python-TESSEROCR](https://github.com/sirfz/tesserocr)\n",
    "* [PYTESSERACT](https://github.com/madmaze/pytesseract)"
   ]
  },
  {
   "cell_type": "markdown",
   "metadata": {},
   "source": [
    "### tesserocr\n",
    "\n",
    "* 确保自己的电脑安装了 libtesseract (>=3.04) and libleptonica (>=1.71).\n",
    "* `apt-get install tesseract-ocr libtesseract-dev libleptonica-dev pkg-config`安装相关软件\n",
    "\n",
    "* 安装包(Linux)\n",
    "    * `pip install tesserocr`安装tesserocr包\n",
    "    \n",
    "* 使用"
   ]
  },
  {
   "cell_type": "code",
   "execution_count": 6,
   "metadata": {
    "ExecuteTime": {
     "end_time": "2019-03-19T08:09:49.852635Z",
     "start_time": "2019-03-19T08:09:48.118481Z"
    }
   },
   "outputs": [
    {
     "name": "stdout",
     "output_type": "stream",
     "text": [
      "HEW x aweew\n",
      "\n",
      "muznu m1\n",
      "\n",
      "‘ iE‘a‘iRﬁUé‘Eﬁﬁ\n",
      "\n",
      " \n",
      "\n",
      "- ibiga’ééﬁ—Es‘kﬁﬁlﬂkiww\n",
      "\n",
      " \n",
      "\n",
      " \n",
      "\n",
      " \n",
      "\n",
      " \n",
      "\n",
      " \n",
      "\n",
      "-,‘\n",
      "' o\n",
      ".\n",
      "\n",
      "\n",
      "[47, 65, 56, 69, 73, 35, 53, 95, 93, 47, 95, 95, 95, 95, 95, 37, 90, 65, 76]\n",
      "maﬁa $111M?\" ﬁ/Kﬁﬂ\n",
      "\n",
      "3’I‘ﬁﬂﬁﬁﬁfﬁﬁ4073\n",
      "\n",
      " \n",
      "\n",
      " \n",
      "\n",
      "\n",
      "[44, 49, 53, 46, 95, 95]\n",
      "7FEEEﬁﬁ X 3E 1.443%?\n",
      "OCRX$iFl£|J§ﬁ£\n",
      "\n",
      "i ﬁﬂ“?ﬂ§ﬁ¥ﬁ§”$¢%§ﬁﬁﬁﬁ¥iﬁ\n",
      "\n",
      "'I\n",
      "\n",
      " \n",
      "\n",
      "\n",
      "[56, 64, 53, 49, 50, 66, 49, 76, 95]\n"
     ]
    }
   ],
   "source": [
    "# 初始化并重用tesseract API实例对多个图像进行评分:\n",
    "from tesserocr import PyTessBaseAPI\n",
    "\n",
    "images = ['sample1.jpg', 'sample2.jpg', 'sample3.jpg']\n",
    "\n",
    "with PyTessBaseAPI() as api:\n",
    "    for img in images:\n",
    "        api.SetImageFile(img)\n",
    "        print(api.GetUTF8Text())\n",
    "        print(api.AllWordConfidences())\n",
    "# api is automatically finalized when used in a with-statement (context manager).\n",
    "# otherwise api.End() should be explicitly called when it's no longer needed."
   ]
  },
  {
   "cell_type": "code",
   "execution_count": 13,
   "metadata": {
    "ExecuteTime": {
     "end_time": "2019-03-19T08:15:24.169168Z",
     "start_time": "2019-03-19T08:15:23.000420Z"
    },
    "scrolled": true
   },
   "outputs": [
    {
     "name": "stdout",
     "output_type": "stream",
     "text": [
      "tesseract 3.04.01\n",
      " leptonica-1.73\n",
      "  libgif 5.1.2 : libjpeg 8d (libjpeg-turbo 1.4.2) : libpng 1.2.54 : libtiff 4.0.9 : zlib 1.2.11 : libwebp 0.4.4 : libopenjp2 2.1.2\n",
      "\n",
      "('/usr/share/tesseract-ocr/tessdata/', ['eng', 'osd', 'equ'])\n",
      "7EEDSE£€ X 4% was?\n",
      "ocﬁziiﬁﬁﬂiﬁﬁ\n",
      "\n",
      "i ﬁﬁ‘ﬁﬂﬁtﬁE’WﬁEEWﬁﬂﬁ\n",
      "\n",
      "’l\n",
      "\n",
      "\n",
      "7FEEEﬁﬁ X 3E 1.443%?\n",
      "OCRX$iFl£|J§ﬁ£\n",
      "\n",
      "i ﬁﬂ“?ﬂ§ﬁ¥ﬁ§”$¢%§ﬁﬁﬁﬁ¥iﬁ\n",
      "\n",
      "'I\n",
      "\n",
      " \n",
      "\n",
      "\n"
     ]
    }
   ],
   "source": [
    "import tesserocr\n",
    "from PIL import Image\n",
    "\n",
    "print (tesserocr.tesseract_version())  # print tesseract-ocr version\n",
    "print (tesserocr.get_languages())  # prints tessdata path and list of available languages\n",
    "\n",
    "image = Image.open('sample3.jpg')\n",
    "print (tesserocr.image_to_text(image))  # print ocr text from image\n",
    "# or\n",
    "print (tesserocr.file_to_text('sample3.jpg'))"
   ]
  },
  {
   "cell_type": "markdown",
   "metadata": {},
   "source": [
    "### pytesseract\n"
   ]
  },
  {
   "cell_type": "markdown",
   "metadata": {},
   "source": [
    "## 百度OCR API\n",
    "* [文字识别](https://cloud.baidu.com/doc/OCR/OCR-Python-SDK.html)\n",
    "* [文字识别](https://cloud.baidu.com/doc/OCR/OCR-Python-SDK/24.5C.E6.8E.A5.E5.8F.A3.E8.AF.B4.E6.98.8E.html)"
   ]
  }
 ],
 "metadata": {
  "kernelspec": {
   "display_name": "Python 3",
   "language": "python",
   "name": "python3"
  },
  "language_info": {
   "codemirror_mode": {
    "name": "ipython",
    "version": 3
   },
   "file_extension": ".py",
   "mimetype": "text/x-python",
   "name": "python",
   "nbconvert_exporter": "python",
   "pygments_lexer": "ipython3",
   "version": "3.6.5"
  },
  "toc": {
   "base_numbering": 1,
   "nav_menu": {},
   "number_sections": true,
   "sideBar": true,
   "skip_h1_title": false,
   "title_cell": "Table of Contents",
   "title_sidebar": "Contents",
   "toc_cell": false,
   "toc_position": {},
   "toc_section_display": true,
   "toc_window_display": true
  },
  "varInspector": {
   "cols": {
    "lenName": 16,
    "lenType": 16,
    "lenVar": 40
   },
   "kernels_config": {
    "python": {
     "delete_cmd_postfix": "",
     "delete_cmd_prefix": "del ",
     "library": "var_list.py",
     "varRefreshCmd": "print(var_dic_list())"
    },
    "r": {
     "delete_cmd_postfix": ") ",
     "delete_cmd_prefix": "rm(",
     "library": "var_list.r",
     "varRefreshCmd": "cat(var_dic_list()) "
    }
   },
   "types_to_exclude": [
    "module",
    "function",
    "builtin_function_or_method",
    "instance",
    "_Feature"
   ],
   "window_display": false
  }
 },
 "nbformat": 4,
 "nbformat_minor": 2
}
