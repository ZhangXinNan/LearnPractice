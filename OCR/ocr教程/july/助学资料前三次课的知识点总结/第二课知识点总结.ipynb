{
 "cells": [
  {
   "cell_type": "markdown",
   "metadata": {},
   "source": [
    "## 第二课\n",
    "\n",
    "* 单字符识别\n",
    "    * 模板匹配\n",
    "        * method=CV_TM_SQDIFF\n",
    "        * method=CV_TM_SQDIFF_NORMED\n",
    "        * method=CV_TM_CCORR\n",
    "        * method=CV_TM_CCORR_NORMED\n",
    "        * method=CV_TM_CCOEFF\n",
    "        * method=CV_TM_CCOEFF_NORMED\n",
    "    * 特征提取+传统分类器\n",
    "        * 位置\n",
    "        * 垂直/水平投影\n",
    "        * 占空比/孔洞/穿刺\n",
    "        * 方向/弧度\n",
    "        * SVM\n",
    "        * MLP\n",
    "    * CNN模型\n",
    "        * [cs231n](http://cs231n.stanford.edu)\n",
    "        * 卷积/非线性激活函数/池化操作\n",
    "        * [CNN讲解视频](https://www.youtube.com/watch?v=AgkfIQ4IGaM&t=7s)\n",
    "        * [CNN文件](https://cs.stanford.edu/people/karpathy/convnetjs/)\n",
    "        * VGGNet\n",
    "            * AlexNet\n",
    "            * VGGNet16\n",
    "            * VGGNet19\n",
    "            * GoogLeNet\n",
    "            * ResNet\n",
    "                * 加入残差防止梯度消失\n",
    "        * 模型方法\n",
    "            * 输入图片归一化\n",
    "            * 数据增强\n",
    "            * PADDING\n",
    "            * 灰度图还是二值图\n",
    "            * 英文单词可以用CNN学?宽高比变化范围大怎么办?\n",
    "        \n",
    "* 过切分的路径选择\n",
    "    * VITERBI + BEAM SEARCH\n",
    "    * HMM+VITERBI\n",
    "\n",
    "* 语言模型\n",
    "    * N-GRAM\n",
    "        * unigram model\n",
    "        * bigram model\n",
    "        * trigram model\n",
    "    * LSTM\n",
    "    * 2D-PCFG\n",
    "        * CFG 上下午无关语法\n",
    "        * PCFG 概率上下午无关语法\n",
    "        * 2D-PCFG 带有空间约束的概率上下午无关语法"
   ]
  }
 ],
 "metadata": {
  "kernelspec": {
   "display_name": "Python 3",
   "language": "python",
   "name": "python3"
  },
  "language_info": {
   "codemirror_mode": {
    "name": "ipython",
    "version": 3
   },
   "file_extension": ".py",
   "mimetype": "text/x-python",
   "name": "python",
   "nbconvert_exporter": "python",
   "pygments_lexer": "ipython3",
   "version": "3.6.5"
  },
  "toc": {
   "base_numbering": 1,
   "nav_menu": {},
   "number_sections": true,
   "sideBar": true,
   "skip_h1_title": false,
   "title_cell": "Table of Contents",
   "title_sidebar": "Contents",
   "toc_cell": false,
   "toc_position": {},
   "toc_section_display": true,
   "toc_window_display": false
  },
  "varInspector": {
   "cols": {
    "lenName": 16,
    "lenType": 16,
    "lenVar": 40
   },
   "kernels_config": {
    "python": {
     "delete_cmd_postfix": "",
     "delete_cmd_prefix": "del ",
     "library": "var_list.py",
     "varRefreshCmd": "print(var_dic_list())"
    },
    "r": {
     "delete_cmd_postfix": ") ",
     "delete_cmd_prefix": "rm(",
     "library": "var_list.r",
     "varRefreshCmd": "cat(var_dic_list()) "
    }
   },
   "types_to_exclude": [
    "module",
    "function",
    "builtin_function_or_method",
    "instance",
    "_Feature"
   ],
   "window_display": false
  }
 },
 "nbformat": 4,
 "nbformat_minor": 2
}
